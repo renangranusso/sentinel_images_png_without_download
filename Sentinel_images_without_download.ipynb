{
 "cells": [
  {
   "cell_type": "code",
   "execution_count": 1,
   "id": "c4f05554",
   "metadata": {},
   "outputs": [],
   "source": [
    "import planetary_computer\n",
    "import shapely\n",
    "import shapely.wkt\n",
    "import geojson as gj\n",
    "import rasterio\n",
    "import numpy as np\n",
    "import pyproj\n",
    "import matplotlib.pyplot as plt\n",
    "from matplotlib.colors import LinearSegmentedColormap\n",
    "from pystac_client.client import Client\n",
    "from shapely.geometry import box\n",
    "from rasterio import features, warp, windows, plot\n",
    "from numpy import (\n",
    "    nan as np_nan,\n",
    "    ndarray,\n",
    "    uint16 as np_uint16,\n",
    "    errstate as np_errstate,\n",
    "    where as np_where,\n",
    "    iinfo as np_iinfo,\n",
    ")"
   ]
  },
  {
   "cell_type": "code",
   "execution_count": 2,
   "id": "6f8f7642",
   "metadata": {},
   "outputs": [],
   "source": [
    "BACKGROUND_COLORS = {\n",
    "    'ndvi': [(0, 0, 0)],\n",
    "    'evi': [\n",
    "        (165, 0, 38),\n",
    "        (180, 15, 38)\n",
    "    ]\n",
    "}\n",
    "\n",
    "BANDWIDTH_COLORS = [\n",
    "    (112, 47, 167), #1.0\n",
    "    (112, 47, 167), #.95\n",
    "    (112, 47, 167), #.90\n",
    "    (112, 47, 167), #.85\n",
    "    (90, 7, 93),    #.80\n",
    "    (90, 7, 93),    #.75\n",
    "    (0, 33, 94),    #.70\n",
    "    (0, 33, 94),    #.65\n",
    "    (1, 112, 194),  #.60\n",
    "    (0, 175, 241),  #.55\n",
    "    (48, 152, 100), #.50\n",
    "    (110, 173, 67), #.45\n",
    "    (148, 208, 75), #.40\n",
    "    (249, 231, 151),#.35\n",
    "    (248, 210, 82), #.30\n",
    "    (234, 125, 54), #.25\n",
    "    (234, 125, 54), #.20\n",
    "    (193, 1, 0),    #.15 \n",
    "    (193, 1, 0),    #.10\n",
    "    (193, 1, 0),    #.05\n",
    "    (193, 1, 0),    #0.0\n",
    "]\n",
    "BANDWIDTH_COLORS +=  [(124, 126, 124)] * (len(BANDWIDTH_COLORS))\n",
    "BANDWIDTH_COLORS = [tuple(c/255 for c in rgb) for rgb in BANDWIDTH_COLORS[::-1]]"
   ]
  },
  {
   "cell_type": "code",
   "execution_count": 3,
   "id": "818cfc95",
   "metadata": {},
   "outputs": [],
   "source": [
    "def get_items(geojson_geometry):\n",
    "    #Coleta todas as imagens da geometria no planetary computer\n",
    "    catalog = Client.open(\"https://planetarycomputer.microsoft.com/api/stac/v1\", modifier=planetary_computer.sign_inplace)\n",
    "    search = catalog.search(\n",
    "        collections=[\"sentinel-2-l2a\"],\n",
    "        intersects=geojson_geometry,\n",
    "        datetime=\"2023-01-01/2023-02-28\",\n",
    "        limit=1  # Ajuste conforme necessário\n",
    "    )\n",
    "    items = list(search.get_items())\n",
    "    \n",
    "    return items\n",
    "\n",
    "def generate_geojson(wkt):\n",
    "    geometry = shapely.wkt.loads(wkt)\n",
    "    geojson_geometry = shapely.geometry.mapping(geometry)\n",
    "\n",
    "    return geojson_geometry\n",
    "\n",
    "def generate_geojson_dif(wkt):\n",
    "    g1 = shapely.wkt.loads(wkt)\n",
    "    g2 = gj.Feature(geometry=g1, properties={})\n",
    "\n",
    "    return g2\n",
    "    "
   ]
  },
  {
   "cell_type": "code",
   "execution_count": 4,
   "id": "00a22970",
   "metadata": {},
   "outputs": [],
   "source": [
    "def get_raster_band(href, wkt):\n",
    "    shapely_geometry = shape(wkt) #Transforma uma geometria WKT (wkt) em uma geometria Shapely\n",
    "    with rasterio.open(href) as ds: #bre um arquivo raster (href)\n",
    "        warped_geometry = warp.transform_geom(\n",
    "            \"EPSG:4326\", ds.crs, shapely_geometry    #Transforma a geometria para a mesma projeção do raster\n",
    "        )\n",
    "        out_image, _ = mask(ds, [warped_geometry], crop=True) #Aplica uma máscara ao raster com a geometria transformada\n",
    "\n",
    "    return out_image\n",
    "\n",
    "def get_band_info(href, area):\n",
    "    shapely_geometry = shape(area)\n",
    "    with rasterio.open(href) as ds:\n",
    "        warped_geometry = warp.transform_geom(\n",
    "            \"EPSG:4326\", ds.crs, shapely_geometry\n",
    "        )\n",
    "        _, out_transform = mask(ds, [warped_geometry], crop=True)\n",
    "\n",
    "        return {\n",
    "            \"transform\": out_transform, #transformação do recorte\n",
    "            \"crs\": int(f\"{ds.crs}\".split(\":\")[1]), #epsg do raster\n",
    "        }"
   ]
  },
  {
   "cell_type": "code",
   "execution_count": 5,
   "id": "8c8ef8ba",
   "metadata": {},
   "outputs": [],
   "source": [
    "def calc_ndvi(b_nir: ndarray, b_red: ndarray) -> ndarray:\n",
    "    ZERO_DIVISOR_FIX = np_iinfo(np_uint16).max * 2\n",
    "    \"\"\"\n",
    "    Calculate the Normalized Difference Vegetation Index (NDVI) for arrays of reflectance values.\n",
    "\n",
    "    NDVI is a measure of vegetation health and density. It is calculated using the formula:\n",
    "    NDVI = (NIR - RED) / (NIR + RED)\n",
    "\n",
    "    Parameters:\n",
    "    b_nir (np.ndarray): An array of reflectance values in the near-infrared band.\n",
    "    b_red (np.ndarray): An array of reflectance values in the red band.\n",
    "\n",
    "    Returns:\n",
    "    np.ndarray: An array of NDVI values, which range from -1 to 1.\n",
    "                - Negative values generally indicate non-vegetated surfaces (e.g., water, barren land).\n",
    "                - Values around 0 suggest sparse or no vegetation.\n",
    "                - Positive values closer to 1 indicate healthy, dense vegetation.\n",
    "                - np.nan is being used to hide 0 values as a mask\n",
    "    \"\"\"\n",
    "    if len(b_nir) == 0 or len(b_red) == 0:\n",
    "        return []\n",
    "\n",
    "    b_nir = b_nir.astype(float)\n",
    "    b_red = b_red.astype(float)\n",
    "\n",
    "    denominator = b_nir + b_red\n",
    "    denominator[denominator == 0] = ZERO_DIVISOR_FIX\n",
    "\n",
    "    with np_errstate(divide=\"ignore\", invalid=\"ignore\"):\n",
    "        ndvi = np_where(denominator != 0, (b_nir - b_red) / denominator, 0)\n",
    "\n",
    "    return apply_filters(ndvi)\n",
    "\n",
    "\n",
    "\n",
    "def apply_filters(index: ndarray) -> ndarray:\n",
    "    \"\"\"\n",
    "    Apply filters to a NumPy array by modifying its values based on specific conditions.\n",
    "\n",
    "    Parameters:\n",
    "    -----------\n",
    "    index : ndarray\n",
    "        A NumPy array containing the data to be filtered.\n",
    "\n",
    "    Returns:\n",
    "    --------\n",
    "    ndarray\n",
    "        The filtered NumPy array with the following transformations:\n",
    "    \"\"\"\n",
    "    index[index > 1] = 1.0\n",
    "    index[index < -1] = -1.0\n",
    "    index[index == 0] = np_nan\n",
    "    return index\n"
   ]
  },
  {
   "cell_type": "code",
   "execution_count": 8,
   "id": "50decd5e",
   "metadata": {},
   "outputs": [],
   "source": [
    "def create_ndvi_map(file_name, extent, geometry, sat_bandwidth, raster_transform, sat_crs = \"EPSG:32721\") -> str:\n",
    "\n",
    "        transformer = pyproj.Transformer.from_crs(\"EPSG:4326\", sat_crs)\n",
    "        longitude, latitude = geometry.exterior.xy\n",
    "\n",
    "        x, y = [], []\n",
    "        for lon, lat in zip(longitude, latitude):\n",
    "            x_coord, y_coord = transformer.transform(lat, lon)\n",
    "            x.append(x_coord)\n",
    "            y.append(y_coord)\n",
    "\n",
    "        plt.figure(figsize=(3, 3))\n",
    "        fig, ax = plt.subplots(figsize=(3, 3))\n",
    "\n",
    "        ndvi_colors = BANDWIDTH_COLORS\n",
    "        color_map = LinearSegmentedColormap.from_list(\"bandwidth\", ndvi_colors, N=len(ndvi_colors))\n",
    "\n",
    "        img = plot.show(sat_bandwidth, ax=ax, extent=extent, transform=raster_transform,\n",
    "                                 cmap=color_map, interpolation='nearest', vmin=-1.0, vmax=1.0)\n",
    "\n",
    "        ax.set_xlim([extent[0], extent[2]])\n",
    "        ax.set_ylim([extent[1], extent[3]])\n",
    "\n",
    "        ax.plot(x, y, color='blue', linewidth=2)\n",
    "        ax.axis('off')\n",
    "        plt.savefig('C:\\\\Users\\\\renan.granusso\\\\images\\\\' + file_name, bbox_inches='tight', pad_inches=0.1, dpi=200)\n",
    "        plt.close()\n",
    "\n",
    "        return 'C:\\\\Users\\\\renan.granusso\\\\images\\\\' + file_name"
   ]
  },
  {
   "cell_type": "code",
   "execution_count": 9,
   "id": "a0105147",
   "metadata": {},
   "outputs": [
    {
     "name": "stdout",
     "output_type": "stream",
     "text": [
      "{\"geometry\": {\"coordinates\": [[[-47.32931, -21.805535], [-47.32931, -21.794596], [-47.342661, -21.794596], [-47.342661, -21.805535], [-47.32931, -21.805535]]], \"type\": \"Polygon\"}, \"properties\": {}, \"type\": \"Feature\"}\n",
      "{\"geometry\": {\"coordinates\": [[[-47.32931, -21.805535], [-47.32931, -21.794596], [-47.342661, -21.794596], [-47.342661, -21.805535], [-47.32931, -21.805535]]], \"type\": \"Polygon\"}, \"properties\": {}, \"type\": \"Feature\"}\n",
      "{\"geometry\": {\"coordinates\": [[[-47.32931, -21.805535], [-47.32931, -21.794596], [-47.342661, -21.794596], [-47.342661, -21.805535], [-47.32931, -21.805535]]], \"type\": \"Polygon\"}, \"properties\": {}, \"type\": \"Feature\"}\n",
      "{\"geometry\": {\"coordinates\": [[[-47.32931, -21.805535], [-47.32931, -21.794596], [-47.342661, -21.794596], [-47.342661, -21.805535], [-47.32931, -21.805535]]], \"type\": \"Polygon\"}, \"properties\": {}, \"type\": \"Feature\"}\n",
      "{\"geometry\": {\"coordinates\": [[[-47.32931, -21.805535], [-47.32931, -21.794596], [-47.342661, -21.794596], [-47.342661, -21.805535], [-47.32931, -21.805535]]], \"type\": \"Polygon\"}, \"properties\": {}, \"type\": \"Feature\"}\n",
      "{\"geometry\": {\"coordinates\": [[[-47.32931, -21.805535], [-47.32931, -21.794596], [-47.342661, -21.794596], [-47.342661, -21.805535], [-47.32931, -21.805535]]], \"type\": \"Polygon\"}, \"properties\": {}, \"type\": \"Feature\"}\n",
      "{\"geometry\": {\"coordinates\": [[[-47.32931, -21.805535], [-47.32931, -21.794596], [-47.342661, -21.794596], [-47.342661, -21.805535], [-47.32931, -21.805535]]], \"type\": \"Polygon\"}, \"properties\": {}, \"type\": \"Feature\"}\n",
      "{\"geometry\": {\"coordinates\": [[[-47.32931, -21.805535], [-47.32931, -21.794596], [-47.342661, -21.794596], [-47.342661, -21.805535], [-47.32931, -21.805535]]], \"type\": \"Polygon\"}, \"properties\": {}, \"type\": \"Feature\"}\n",
      "{\"geometry\": {\"coordinates\": [[[-47.32931, -21.805535], [-47.32931, -21.794596], [-47.342661, -21.794596], [-47.342661, -21.805535], [-47.32931, -21.805535]]], \"type\": \"Polygon\"}, \"properties\": {}, \"type\": \"Feature\"}\n",
      "{\"geometry\": {\"coordinates\": [[[-47.32931, -21.805535], [-47.32931, -21.794596], [-47.342661, -21.794596], [-47.342661, -21.805535], [-47.32931, -21.805535]]], \"type\": \"Polygon\"}, \"properties\": {}, \"type\": \"Feature\"}\n",
      "{\"geometry\": {\"coordinates\": [[[-47.32931, -21.805535], [-47.32931, -21.794596], [-47.342661, -21.794596], [-47.342661, -21.805535], [-47.32931, -21.805535]]], \"type\": \"Polygon\"}, \"properties\": {}, \"type\": \"Feature\"}\n",
      "{\"geometry\": {\"coordinates\": [[[-47.32931, -21.805535], [-47.32931, -21.794596], [-47.342661, -21.794596], [-47.342661, -21.805535], [-47.32931, -21.805535]]], \"type\": \"Polygon\"}, \"properties\": {}, \"type\": \"Feature\"}\n",
      "{\"geometry\": {\"coordinates\": [[[-47.32931, -21.805535], [-47.32931, -21.794596], [-47.342661, -21.794596], [-47.342661, -21.805535], [-47.32931, -21.805535]]], \"type\": \"Polygon\"}, \"properties\": {}, \"type\": \"Feature\"}\n",
      "{\"geometry\": {\"coordinates\": [[[-47.32931, -21.805535], [-47.32931, -21.794596], [-47.342661, -21.794596], [-47.342661, -21.805535], [-47.32931, -21.805535]]], \"type\": \"Polygon\"}, \"properties\": {}, \"type\": \"Feature\"}\n",
      "{\"geometry\": {\"coordinates\": [[[-47.32931, -21.805535], [-47.32931, -21.794596], [-47.342661, -21.794596], [-47.342661, -21.805535], [-47.32931, -21.805535]]], \"type\": \"Polygon\"}, \"properties\": {}, \"type\": \"Feature\"}\n",
      "{\"geometry\": {\"coordinates\": [[[-47.32931, -21.805535], [-47.32931, -21.794596], [-47.342661, -21.794596], [-47.342661, -21.805535], [-47.32931, -21.805535]]], \"type\": \"Polygon\"}, \"properties\": {}, \"type\": \"Feature\"}\n",
      "{\"geometry\": {\"coordinates\": [[[-47.32931, -21.805535], [-47.32931, -21.794596], [-47.342661, -21.794596], [-47.342661, -21.805535], [-47.32931, -21.805535]]], \"type\": \"Polygon\"}, \"properties\": {}, \"type\": \"Feature\"}\n",
      "{\"geometry\": {\"coordinates\": [[[-47.32931, -21.805535], [-47.32931, -21.794596], [-47.342661, -21.794596], [-47.342661, -21.805535], [-47.32931, -21.805535]]], \"type\": \"Polygon\"}, \"properties\": {}, \"type\": \"Feature\"}\n",
      "{\"geometry\": {\"coordinates\": [[[-47.32931, -21.805535], [-47.32931, -21.794596], [-47.342661, -21.794596], [-47.342661, -21.805535], [-47.32931, -21.805535]]], \"type\": \"Polygon\"}, \"properties\": {}, \"type\": \"Feature\"}\n",
      "{\"geometry\": {\"coordinates\": [[[-47.32931, -21.805535], [-47.32931, -21.794596], [-47.342661, -21.794596], [-47.342661, -21.805535], [-47.32931, -21.805535]]], \"type\": \"Polygon\"}, \"properties\": {}, \"type\": \"Feature\"}\n"
     ]
    },
    {
     "name": "stderr",
     "output_type": "stream",
     "text": [
      "C:\\Users\\renan.granusso\\AppData\\Local\\Temp\\ipykernel_12304\\3444929009.py:13: RuntimeWarning: More than 20 figures have been opened. Figures created through the pyplot interface (`matplotlib.pyplot.figure`) are retained until explicitly closed and may consume too much memory. (To control this warning, see the rcParam `figure.max_open_warning`). Consider using `matplotlib.pyplot.close()`.\n",
      "  fig, ax = plt.subplots(figsize=(3, 3))\n"
     ]
    },
    {
     "data": {
      "text/plain": [
       "<Figure size 300x300 with 0 Axes>"
      ]
     },
     "metadata": {},
     "output_type": "display_data"
    },
    {
     "data": {
      "text/plain": [
       "<Figure size 300x300 with 0 Axes>"
      ]
     },
     "metadata": {},
     "output_type": "display_data"
    },
    {
     "data": {
      "text/plain": [
       "<Figure size 300x300 with 0 Axes>"
      ]
     },
     "metadata": {},
     "output_type": "display_data"
    },
    {
     "data": {
      "text/plain": [
       "<Figure size 300x300 with 0 Axes>"
      ]
     },
     "metadata": {},
     "output_type": "display_data"
    },
    {
     "data": {
      "text/plain": [
       "<Figure size 300x300 with 0 Axes>"
      ]
     },
     "metadata": {},
     "output_type": "display_data"
    },
    {
     "data": {
      "text/plain": [
       "<Figure size 300x300 with 0 Axes>"
      ]
     },
     "metadata": {},
     "output_type": "display_data"
    },
    {
     "data": {
      "text/plain": [
       "<Figure size 300x300 with 0 Axes>"
      ]
     },
     "metadata": {},
     "output_type": "display_data"
    },
    {
     "data": {
      "text/plain": [
       "<Figure size 300x300 with 0 Axes>"
      ]
     },
     "metadata": {},
     "output_type": "display_data"
    },
    {
     "data": {
      "text/plain": [
       "<Figure size 300x300 with 0 Axes>"
      ]
     },
     "metadata": {},
     "output_type": "display_data"
    },
    {
     "data": {
      "text/plain": [
       "<Figure size 300x300 with 0 Axes>"
      ]
     },
     "metadata": {},
     "output_type": "display_data"
    },
    {
     "data": {
      "text/plain": [
       "<Figure size 300x300 with 0 Axes>"
      ]
     },
     "metadata": {},
     "output_type": "display_data"
    },
    {
     "data": {
      "text/plain": [
       "<Figure size 300x300 with 0 Axes>"
      ]
     },
     "metadata": {},
     "output_type": "display_data"
    },
    {
     "data": {
      "text/plain": [
       "<Figure size 300x300 with 0 Axes>"
      ]
     },
     "metadata": {},
     "output_type": "display_data"
    },
    {
     "data": {
      "text/plain": [
       "<Figure size 300x300 with 0 Axes>"
      ]
     },
     "metadata": {},
     "output_type": "display_data"
    },
    {
     "data": {
      "text/plain": [
       "<Figure size 300x300 with 0 Axes>"
      ]
     },
     "metadata": {},
     "output_type": "display_data"
    },
    {
     "data": {
      "text/plain": [
       "<Figure size 300x300 with 0 Axes>"
      ]
     },
     "metadata": {},
     "output_type": "display_data"
    },
    {
     "data": {
      "text/plain": [
       "<Figure size 300x300 with 0 Axes>"
      ]
     },
     "metadata": {},
     "output_type": "display_data"
    },
    {
     "data": {
      "text/plain": [
       "<Figure size 300x300 with 0 Axes>"
      ]
     },
     "metadata": {},
     "output_type": "display_data"
    },
    {
     "data": {
      "text/plain": [
       "<Figure size 300x300 with 0 Axes>"
      ]
     },
     "metadata": {},
     "output_type": "display_data"
    },
    {
     "data": {
      "text/plain": [
       "<Figure size 300x300 with 0 Axes>"
      ]
     },
     "metadata": {},
     "output_type": "display_data"
    }
   ],
   "source": [
    "wkt = \"Polygon ((-47.33789688206950785 -21.79630489865338561, -47.33598534379766676 -21.79509346615510168, -47.33119132717937561 -21.79962924218886045, -47.32991696833147444 -21.8018266472608957, -47.3315857715846704 -21.80199567702404551, -47.33546953188302098 -21.80340425062632903, -47.33792722394683494 -21.80410853223273548, -47.33953534344536251 -21.80503817865020721, -47.34205371926383776 -21.8048973235203043, -47.33789688206950785 -21.79630489865338561))\"\n",
    "epsg = 4326\n",
    "\n",
    "format_date_time = \"%Y-%m-%dT%H:%M:%S\"\n",
    "geojson_dict = generate_geojson(wkt)\n",
    "items = get_items(geojson_dict)\n",
    "\n",
    "duplicate_dates = []\n",
    "\n",
    "for item in items:\n",
    "    file_name = item.id + '.png'\n",
    "    wkt_territory = shapely.wkt.loads(wkt)\n",
    "    wkt_bbox = wkt_territory.envelope.bounds #Gera um BoundBox do WKT\n",
    "    \n",
    "    #Expansao do BBOX\n",
    "    exp_x = (wkt_bbox[2] - wkt_bbox[0]) * 0.05 # 0.05 e uma expansao chumbada\n",
    "    exp_y = (wkt_bbox[3] - wkt_bbox[1]) * 0.05\n",
    "    \n",
    "    # Criar um retângulo expandido com base no BBox\n",
    "    expanded_area = box(wkt_bbox[0] - exp_x, wkt_bbox[1] - exp_y, wkt_bbox[2] + exp_x, wkt_bbox[3] + exp_y)\n",
    "    expanded_area_geojson = generate_geojson_dif(expanded_area.wkt)\n",
    "    \n",
    "    band_red_href = item.assets[\"B04\"].href\n",
    "    band_nir_href = item.assets[\"B08\"].href\n",
    "    \n",
    "    img_path = ''\n",
    "    \n",
    "    try:\n",
    "        print(expanded_area_geojson)\n",
    "        aoi_bounds = features.bounds(expanded_area_geojson.geometry)\n",
    "        \n",
    "        with rasterio.open(band_red_href) as band_red_src, rasterio.open(band_nir_href) as band_nir_src:\n",
    "            warped_aoi_bounds_red = warp.transform_bounds(\"epsg:4326\", band_red_src.crs, *aoi_bounds)\n",
    "            aoi_window = windows.from_bounds(*warped_aoi_bounds_red, transform=band_red_src.transform)\n",
    "            band_red = band_red_src.read(window=aoi_window)\n",
    "\n",
    "            warped_aoi_bounds_nir = warp.transform_bounds(\"epsg:4326\", band_nir_src.crs, *aoi_bounds)\n",
    "            aoi_window = windows.from_bounds(*warped_aoi_bounds_nir, transform=band_nir_src.transform)\n",
    "            nir_transform = band_nir_src.window_transform(aoi_window)\n",
    "            band_nir = band_nir_src.read(window=aoi_window)\n",
    "            \n",
    "            img_ndvi = calc_ndvi(band_nir, band_red)\n",
    "            ndvi_mean = np.mean(img_ndvi)\n",
    "            ndvi_sum = np.sum(img_ndvi)\n",
    "            \n",
    "            image_path = create_ndvi_map(file_name, warped_aoi_bounds_nir, wkt_territory,\n",
    "                                                                   img_ndvi, nir_transform)\n",
    "        \n",
    "    except Exception as ex:\n",
    "            traceback.print_exc()"
   ]
  }
 ],
 "metadata": {
  "kernelspec": {
   "display_name": "Python 3 (ipykernel)",
   "language": "python",
   "name": "python3"
  },
  "language_info": {
   "codemirror_mode": {
    "name": "ipython",
    "version": 3
   },
   "file_extension": ".py",
   "mimetype": "text/x-python",
   "name": "python",
   "nbconvert_exporter": "python",
   "pygments_lexer": "ipython3",
   "version": "3.9.0"
  }
 },
 "nbformat": 4,
 "nbformat_minor": 5
}
